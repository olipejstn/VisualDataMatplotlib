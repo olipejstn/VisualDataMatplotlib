{
 "cells": [
  {
   "cell_type": "markdown",
   "id": "ceebabf6",
   "metadata": {},
   "source": [
    "# Animasi pada Matplotlib"
   ]
  },
  {
   "cell_type": "markdown",
   "id": "8c8d25b6",
   "metadata": {},
   "source": [
    "2273001 - Olivia Justine Audia"
   ]
  },
  {
   "cell_type": "markdown",
   "id": "e76c8c09",
   "metadata": {},
   "source": [
    "Dalam sesi ini kita akan mempelajari cara untuk membuat animasi dengan Matplotlib."
   ]
  },
  {
   "cell_type": "markdown",
   "id": "a834544f",
   "metadata": {},
   "source": [
    "Import modules"
   ]
  },
  {
   "cell_type": "code",
   "execution_count": null,
   "id": "4aa5eff7",
   "metadata": {},
   "outputs": [],
   "source": [
    "%matplotlib inline"
   ]
  },
  {
   "cell_type": "code",
   "execution_count": null,
   "id": "89b45729",
   "metadata": {},
   "outputs": [],
   "source": [
    "import matplotlib\n",
    "import matplotlib.pyplot as plt\n",
    "from matplotlib.animation import FuncAnimation\n",
    "from IPython import display\n",
    "import numpy as np\n",
    "\n",
    "print(matplotlib.__version__)\n",
    "print(np.__version__)"
   ]
  },
  {
   "cell_type": "markdown",
   "id": "db5622e8",
   "metadata": {},
   "source": [
    "Review Figure"
   ]
  },
  {
   "cell_type": "code",
   "execution_count": null,
   "id": "8352a14c",
   "metadata": {},
   "outputs": [],
   "source": [
    "fig = plt.figure()\n",
    "plt.xlim((0, 8))\n",
    "plt.ylim((-4, 2))\n",
    "\n",
    "print(plt.plot([]))"
   ]
  },
  {
   "cell_type": "markdown",
   "id": "5b19e2ae",
   "metadata": {},
   "source": [
    "Animasi pada Matplotlib"
   ]
  },
  {
   "cell_type": "code",
   "execution_count": null,
   "id": "3fa05eed",
   "metadata": {},
   "outputs": [],
   "source": [
    "fig = plt.figure()\n",
    "plt.xlim((0, 4))\n",
    "plt.ylim((-2, 2))\n",
    "\n",
    "line = plt.plot([])[0]\n",
    "\n",
    "\n",
    "def animate(i):\n",
    "    x = np.linspace(0, 4, 1000)\n",
    "    y = np.sin(2 * np.pi * (x - 0.01 * i))\n",
    "    line.set_data(x, y)\n",
    "    return line,\n",
    "\n",
    "\n",
    "anim = FuncAnimation(fig, animate, frames=200, interval=50)\n",
    "\n",
    "video = anim.to_html5_video()\n",
    "html = display.HTML(video)\n",
    "display.display(html)\n",
    "\n",
    "plt.close()"
   ]
  }
 ],
 "metadata": {
  "kernelspec": {
   "display_name": "Python 3 (ipykernel)",
   "language": "python",
   "name": "python3"
  },
  "language_info": {
   "codemirror_mode": {
    "name": "ipython",
    "version": 3
   },
   "file_extension": ".py",
   "mimetype": "text/x-python",
   "name": "python",
   "nbconvert_exporter": "python",
   "pygments_lexer": "ipython3",
   "version": "3.9.13"
  }
 },
 "nbformat": 4,
 "nbformat_minor": 5
}
